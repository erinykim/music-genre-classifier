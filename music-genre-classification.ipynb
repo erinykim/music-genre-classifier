{
 "cells": [
  {
   "cell_type": "code",
   "execution_count": 44,
   "id": "f038c43c",
   "metadata": {},
   "outputs": [],
   "source": [
    "import pandas as pd\n",
    "import matplotlib.pyplot as plt\n",
    "import seaborn as sns\n",
    "import numpy as np\n",
    "\n",
    "import warnings\n",
    "warnings.filterwarnings('ignore')"
   ]
  },
  {
   "cell_type": "code",
   "execution_count": 2,
   "id": "c10ae064",
   "metadata": {},
   "outputs": [],
   "source": [
    "data = pd.read_csv('music_train.csv')"
   ]
  },
  {
   "cell_type": "code",
   "execution_count": 3,
   "id": "06bf7236",
   "metadata": {},
   "outputs": [
    {
     "data": {
      "text/html": [
       "<div>\n",
       "<style scoped>\n",
       "    .dataframe tbody tr th:only-of-type {\n",
       "        vertical-align: middle;\n",
       "    }\n",
       "\n",
       "    .dataframe tbody tr th {\n",
       "        vertical-align: top;\n",
       "    }\n",
       "\n",
       "    .dataframe thead th {\n",
       "        text-align: right;\n",
       "    }\n",
       "</style>\n",
       "<table border=\"1\" class=\"dataframe\">\n",
       "  <thead>\n",
       "    <tr style=\"text-align: right;\">\n",
       "      <th></th>\n",
       "      <th>lyric</th>\n",
       "      <th>class</th>\n",
       "    </tr>\n",
       "  </thead>\n",
       "  <tbody>\n",
       "    <tr>\n",
       "      <th>0</th>\n",
       "      <td>Can't drink without thinkin' about you</td>\n",
       "      <td>1</td>\n",
       "    </tr>\n",
       "    <tr>\n",
       "      <th>1</th>\n",
       "      <td>Now Lil Pump flyin' private jet (Yuh)</td>\n",
       "      <td>0</td>\n",
       "    </tr>\n",
       "    <tr>\n",
       "      <th>2</th>\n",
       "      <td>No, matter fact, you ain't help me when I had ...</td>\n",
       "      <td>0</td>\n",
       "    </tr>\n",
       "    <tr>\n",
       "      <th>3</th>\n",
       "      <td>And you could find me, I ain't hidin'</td>\n",
       "      <td>0</td>\n",
       "    </tr>\n",
       "    <tr>\n",
       "      <th>4</th>\n",
       "      <td>From the way you talk to the way you move</td>\n",
       "      <td>1</td>\n",
       "    </tr>\n",
       "  </tbody>\n",
       "</table>\n",
       "</div>"
      ],
      "text/plain": [
       "                                               lyric  class\n",
       "0             Can't drink without thinkin' about you      1\n",
       "1              Now Lil Pump flyin' private jet (Yuh)      0\n",
       "2  No, matter fact, you ain't help me when I had ...      0\n",
       "3              And you could find me, I ain't hidin'      0\n",
       "4          From the way you talk to the way you move      1"
      ]
     },
     "execution_count": 3,
     "metadata": {},
     "output_type": "execute_result"
    }
   ],
   "source": [
    "data.head()"
   ]
  },
  {
   "cell_type": "code",
   "execution_count": 4,
   "id": "9ac9ef1b",
   "metadata": {},
   "outputs": [
    {
     "data": {
      "text/plain": [
       "(51054, 2)"
      ]
     },
     "execution_count": 4,
     "metadata": {},
     "output_type": "execute_result"
    }
   ],
   "source": [
    "data.shape"
   ]
  },
  {
   "cell_type": "code",
   "execution_count": 7,
   "id": "416d7707",
   "metadata": {},
   "outputs": [
    {
     "data": {
      "text/plain": [
       "15318"
      ]
     },
     "execution_count": 7,
     "metadata": {},
     "output_type": "execute_result"
    }
   ],
   "source": [
    "data.duplicated().sum()"
   ]
  },
  {
   "cell_type": "code",
   "execution_count": 8,
   "id": "765025f4",
   "metadata": {},
   "outputs": [
    {
     "data": {
      "text/plain": [
       "lyric    0\n",
       "class    0\n",
       "dtype: int64"
      ]
     },
     "execution_count": 8,
     "metadata": {},
     "output_type": "execute_result"
    }
   ],
   "source": [
    "data.isnull().sum()"
   ]
  },
  {
   "cell_type": "code",
   "execution_count": 10,
   "id": "8fe6f880",
   "metadata": {},
   "outputs": [
    {
     "data": {
      "text/html": [
       "<div>\n",
       "<style scoped>\n",
       "    .dataframe tbody tr th:only-of-type {\n",
       "        vertical-align: middle;\n",
       "    }\n",
       "\n",
       "    .dataframe tbody tr th {\n",
       "        vertical-align: top;\n",
       "    }\n",
       "\n",
       "    .dataframe thead th {\n",
       "        text-align: right;\n",
       "    }\n",
       "</style>\n",
       "<table border=\"1\" class=\"dataframe\">\n",
       "  <thead>\n",
       "    <tr style=\"text-align: right;\">\n",
       "      <th></th>\n",
       "      <th>class</th>\n",
       "    </tr>\n",
       "  </thead>\n",
       "  <tbody>\n",
       "    <tr>\n",
       "      <th>count</th>\n",
       "      <td>51054.000000</td>\n",
       "    </tr>\n",
       "    <tr>\n",
       "      <th>mean</th>\n",
       "      <td>0.434227</td>\n",
       "    </tr>\n",
       "    <tr>\n",
       "      <th>std</th>\n",
       "      <td>0.495660</td>\n",
       "    </tr>\n",
       "    <tr>\n",
       "      <th>min</th>\n",
       "      <td>0.000000</td>\n",
       "    </tr>\n",
       "    <tr>\n",
       "      <th>25%</th>\n",
       "      <td>0.000000</td>\n",
       "    </tr>\n",
       "    <tr>\n",
       "      <th>50%</th>\n",
       "      <td>0.000000</td>\n",
       "    </tr>\n",
       "    <tr>\n",
       "      <th>75%</th>\n",
       "      <td>1.000000</td>\n",
       "    </tr>\n",
       "    <tr>\n",
       "      <th>max</th>\n",
       "      <td>1.000000</td>\n",
       "    </tr>\n",
       "  </tbody>\n",
       "</table>\n",
       "</div>"
      ],
      "text/plain": [
       "              class\n",
       "count  51054.000000\n",
       "mean       0.434227\n",
       "std        0.495660\n",
       "min        0.000000\n",
       "25%        0.000000\n",
       "50%        0.000000\n",
       "75%        1.000000\n",
       "max        1.000000"
      ]
     },
     "execution_count": 10,
     "metadata": {},
     "output_type": "execute_result"
    }
   ],
   "source": [
    "data.describe()"
   ]
  },
  {
   "cell_type": "code",
   "execution_count": 16,
   "id": "45e8ccc2",
   "metadata": {},
   "outputs": [
    {
     "data": {
      "image/png": "[encoded data removed]",
      "text/plain": [
       "<Figure size 1080x432 with 1 Axes>"
      ]
     },
     "metadata": {
      "needs_background": "light"
     },
     "output_type": "display_data"
    }
   ],
   "source": [
    "plt.figure(figsize=(15,6))\n",
    "sns.countplot('class', data=data, palette='hls')\n",
    "plt.show()"
   ]
  },
  {
   "cell_type": "code",
   "execution_count": 19,
   "id": "9f1b8642",
   "metadata": {},
   "outputs": [
    {
     "data": {
      "image/png": "[encoded data removed]",
      "text/plain": [
       "<Figure size 432x288 with 1 Axes>"
      ]
     },
     "metadata": {},
     "output_type": "display_data"
    }
   ],
   "source": [
    "plt.pie(\n",
    "    data['class'].value_counts(),\n",
    "    autopct = '%0.0f%%', \n",
    "    shadow = 'True',\n",
    "    startangle = 90\n",
    ")\n",
    "plt.show()"
   ]
  },
  {
   "cell_type": "code",
   "execution_count": 29,
   "id": "6cc9432c",
   "metadata": {},
   "outputs": [],
   "source": [
    "data_trns = data.copy()\n",
    "data_trns['total_char_len'] = data_trns['lyric'].str.len()\n",
    "data_trns['total_word_count'] = data_trns['lyric'].str.split().str.len()"
   ]
  },
  {
   "cell_type": "code",
   "execution_count": 34,
   "id": "5e997fc4",
   "metadata": {},
   "outputs": [
    {
     "name": "stdout",
     "output_type": "stream",
     "text": [
      "total character length is 2032812\n",
      "total number of rows is 51054\n",
      "average character length is 39.81689975320249\n"
     ]
    }
   ],
   "source": [
    "total_char_len = data_trns['total_char_len'].sum()\n",
    "print(f\"total character length is {total_char_len}\")\n",
    "num_row = data_trns['total_char_len'].shape[0]\n",
    "print(f\"total number of rows is {num_row}\")\n",
    "avg_char_len = data_trns['total_char_len'].mean()\n",
    "print(f\"average character length is {avg_char_len}\")"
   ]
  },
  {
   "cell_type": "code",
   "execution_count": 35,
   "id": "942edbdf",
   "metadata": {},
   "outputs": [
    {
     "name": "stdout",
     "output_type": "stream",
     "text": [
      "total word count is 418280\n",
      "total number of rows is 51054\n",
      "average number of words is 8.19289379872292\n"
     ]
    }
   ],
   "source": [
    "total_words = data_trns['total_word_count'].sum()\n",
    "print(f\"total word count is {total_words}\")\n",
    "num_row = data_trns['total_word_count'].shape[0]\n",
    "print(f\"total number of rows is {num_row}\")\n",
    "avg_words = data_trns['total_word_count'].mean()\n",
    "print(f\"average number of words is {avg_words}\")"
   ]
  },
  {
   "cell_type": "code",
   "execution_count": 22,
   "id": "67b909ad",
   "metadata": {},
   "outputs": [],
   "source": [
    "import string\n",
    "import re\n",
    "import nltk\n",
    "from nltk.util import pr\n",
    "from sklearn.feature_extraction.text import CountVectorizer \n",
    "from sklearn.model_selection import train_test_split\n",
    "from sklearn.tree import DecisionTreeClassifier \n",
    "from nltk.corpus import stopwords"
   ]
  },
  {
   "cell_type": "code",
   "execution_count": 24,
   "id": "3441c14a",
   "metadata": {
    "collapsed": true
   },
   "outputs": [
    {
     "name": "stderr",
     "output_type": "stream",
     "text": [
      "[nltk_data] Downloading package stopwords to\n",
      "[nltk_data]     /Users/erinkim/nltk_data...\n",
      "[nltk_data]   Unzipping corpora/stopwords.zip.\n"
     ]
    }
   ],
   "source": [
    "stemmer = nltk.SnowballStemmer('english')\n",
    "nltk.download('stopwords')\n",
    "stopword = set(stopwords.words('english'))"
   ]
  },
  {
   "cell_type": "code",
   "execution_count": 27,
   "id": "7ef3ad48",
   "metadata": {},
   "outputs": [],
   "source": [
    "def clean(text):\n",
    "    text = str(text).lower()\n",
    "    text = re.sub('\\[.*?\\]', '', text)\n",
    "    text = re.sub('https?://\\S+|www\\.\\S+', '', text)\n",
    "    text = re.sub('<.*?>+', '', text)\n",
    "    text = re.sub('[%s]' % re.escape(string.punctuation), '', text)\n",
    "    text = re.sub('\\n', '', text)\n",
    "    text = re.sub('\\w*\\d\\w*', '', text)\n",
    "    text = [word for word in text.split(' ') if word not in stopword] \n",
    "    text=\" \".join(text)\n",
    "    text = [stemmer.stem(word) for word in text.split(' ')]\n",
    "    text=\" \".join(text)\n",
    "    return text"
   ]
  },
  {
   "cell_type": "code",
   "execution_count": 39,
   "id": "bbcab845",
   "metadata": {},
   "outputs": [],
   "source": [
    "data_trns['lyric'] = data_trns['lyric'].apply(clean)"
   ]
  },
  {
   "cell_type": "code",
   "execution_count": 41,
   "id": "c44ca747",
   "metadata": {},
   "outputs": [],
   "source": [
    "data_trns['total_char_len'] = data_trns['lyric'].str.len()\n",
    "data_trns['total_word_count'] = data_trns['lyric'].str.split().str.len()"
   ]
  },
  {
   "cell_type": "code",
   "execution_count": 42,
   "id": "02a61c9d",
   "metadata": {},
   "outputs": [
    {
     "name": "stdout",
     "output_type": "stream",
     "text": [
      "total character length is 1141207\n",
      "total number of rows is 51054\n",
      "average character length is 22.35294002428801\n"
     ]
    }
   ],
   "source": [
    "total_char_len = data_trns['total_char_len'].sum()\n",
    "print(f\"total character length is {total_char_len}\")\n",
    "num_row = data_trns['total_char_len'].shape[0]\n",
    "print(f\"total number of rows is {num_row}\")\n",
    "avg_char_len = data_trns['total_char_len'].mean()\n",
    "print(f\"average character length is {avg_char_len}\")"
   ]
  },
  {
   "cell_type": "code",
   "execution_count": 43,
   "id": "322108f2",
   "metadata": {},
   "outputs": [
    {
     "name": "stdout",
     "output_type": "stream",
     "text": [
      "total word count is 227389\n",
      "total number of rows is 51054\n",
      "average number of words is 4.453891957535159\n"
     ]
    }
   ],
   "source": [
    "total_words = data_trns['total_word_count'].sum()\n",
    "print(f\"total word count is {total_words}\")\n",
    "num_row = data_trns['total_word_count'].shape[0]\n",
    "print(f\"total number of rows is {num_row}\")\n",
    "avg_words = data_trns['total_word_count'].mean()\n",
    "print(f\"average number of words is {avg_words}\")"
   ]
  },
  {
   "cell_type": "code",
   "execution_count": 45,
   "id": "cbe2cd27",
   "metadata": {},
   "outputs": [],
   "source": [
    "x = np.array(data_trns['lyric'])\n",
    "y = np.array(data_trns['class'])"
   ]
  },
  {
   "cell_type": "code",
   "execution_count": 46,
   "id": "068196b3",
   "metadata": {},
   "outputs": [
    {
     "name": "stdout",
     "output_type": "stream",
     "text": [
      "(51054, 11066)\n"
     ]
    }
   ],
   "source": [
    "from sklearn.feature_extraction.text import TfidfVectorizer \n",
    "\n",
    "vectorizer = TfidfVectorizer()\n",
    "X = vectorizer.fit_transform(x) \n",
    "vectorizer.get_feature_names_out()\n",
    "print(X.shape)"
   ]
  },
  {
   "cell_type": "code",
   "execution_count": 50,
   "id": "aa2e8f4a",
   "metadata": {},
   "outputs": [
    {
     "data": {
      "text/html": [
       "<div>\n",
       "<style scoped>\n",
       "    .dataframe tbody tr th:only-of-type {\n",
       "        vertical-align: middle;\n",
       "    }\n",
       "\n",
       "    .dataframe tbody tr th {\n",
       "        vertical-align: top;\n",
       "    }\n",
       "\n",
       "    .dataframe thead th {\n",
       "        text-align: right;\n",
       "    }\n",
       "</style>\n",
       "<table border=\"1\" class=\"dataframe\">\n",
       "  <thead>\n",
       "    <tr style=\"text-align: right;\">\n",
       "      <th></th>\n",
       "      <th>tfidf</th>\n",
       "    </tr>\n",
       "  </thead>\n",
       "  <tbody>\n",
       "    <tr>\n",
       "      <th>thinkin</th>\n",
       "      <td>0.549645</td>\n",
       "    </tr>\n",
       "    <tr>\n",
       "      <th>drink</th>\n",
       "      <td>0.539251</td>\n",
       "    </tr>\n",
       "    <tr>\n",
       "      <th>without</th>\n",
       "      <td>0.520521</td>\n",
       "    </tr>\n",
       "    <tr>\n",
       "      <th>cant</th>\n",
       "      <td>0.368994</td>\n",
       "    </tr>\n",
       "    <tr>\n",
       "      <th>aa</th>\n",
       "      <td>0.000000</td>\n",
       "    </tr>\n",
       "    <tr>\n",
       "      <th>...</th>\n",
       "      <td>...</td>\n",
       "    </tr>\n",
       "    <tr>\n",
       "      <th>franchi</th>\n",
       "      <td>0.000000</td>\n",
       "    </tr>\n",
       "    <tr>\n",
       "      <th>franci</th>\n",
       "      <td>0.000000</td>\n",
       "    </tr>\n",
       "    <tr>\n",
       "      <th>franck</th>\n",
       "      <td>0.000000</td>\n",
       "    </tr>\n",
       "    <tr>\n",
       "      <th>frank</th>\n",
       "      <td>0.000000</td>\n",
       "    </tr>\n",
       "    <tr>\n",
       "      <th>zzzzt</th>\n",
       "      <td>0.000000</td>\n",
       "    </tr>\n",
       "  </tbody>\n",
       "</table>\n",
       "<p>11066 rows × 1 columns</p>\n",
       "</div>"
      ],
      "text/plain": [
       "            tfidf\n",
       "thinkin  0.549645\n",
       "drink    0.539251\n",
       "without  0.520521\n",
       "cant     0.368994\n",
       "aa       0.000000\n",
       "...           ...\n",
       "franchi  0.000000\n",
       "franci   0.000000\n",
       "franck   0.000000\n",
       "frank    0.000000\n",
       "zzzzt    0.000000\n",
       "\n",
       "[11066 rows x 1 columns]"
      ]
     },
     "execution_count": 50,
     "metadata": {},
     "output_type": "execute_result"
    }
   ],
   "source": [
    "first_vector = X[0]\n",
    "df = pd.DataFrame(\n",
    "    first_vector.T.todense(),\n",
    "    index = vectorizer.get_feature_names(),\n",
    "    columns = [\"tfidf\"]) \n",
    "\n",
    "df.sort_values(by = [\"tfidf\"],ascending=False)"
   ]
  },
  {
   "cell_type": "code",
   "execution_count": 52,
   "id": "221fd23b",
   "metadata": {},
   "outputs": [],
   "source": [
    "from sklearn.cluster import KMeans\n",
    "\n",
    "wcss = []\n",
    "for i in range(1, 11):\n",
    "    km = KMeans(n_clusters = i)\n",
    "    km.fit_predict(X)\n",
    "    wcss.append(km.inertia_)"
   ]
  },
  {
   "cell_type": "code",
   "execution_count": 55,
   "id": "f3042da1",
   "metadata": {},
   "outputs": [
    {
     "data": {
      "text/plain": [
       "[50493.07797044366,\n",
       " 50048.64249377392,\n",
       " 49694.40586999069,\n",
       " 49418.76839979505,\n",
       " 49245.45446884958,\n",
       " 49124.10868618675,\n",
       " 48619.86115584997,\n",
       " 48553.89295175163,\n",
       " 48499.939202183974,\n",
       " 48240.10973277212]"
      ]
     },
     "execution_count": 55,
     "metadata": {},
     "output_type": "execute_result"
    }
   ],
   "source": [
    "wcss"
   ]
  },
  {
   "cell_type": "code",
   "execution_count": 57,
   "id": "c3a06bcc",
   "metadata": {},
   "outputs": [
    {
     "data": {
      "image/png": "[encoded data removed]",
      "text/plain": [
       "<Figure size 432x288 with 1 Axes>"
      ]
     },
     "metadata": {
      "needs_background": "light"
     },
     "output_type": "display_data"
    }
   ],
   "source": [
    "plt.plot(range(1,11), wcss)\n",
    "plt.grid()\n",
    "plt.show()"
   ]
  },
  {
   "cell_type": "code",
   "execution_count": 58,
   "id": "cc839e3f",
   "metadata": {},
   "outputs": [],
   "source": [
    "X_train, X_test, y_train, y_test = train_test_split(\n",
    "        X,\n",
    "        y,\n",
    "        test_size = 0.3,\n",
    "        random_state = 39\n",
    ")"
   ]
  },
  {
   "cell_type": "code",
   "execution_count": 60,
   "id": "9681a122",
   "metadata": {},
   "outputs": [],
   "source": [
    "clf = DecisionTreeClassifier()\n",
    "clf.fit(X_train, y_train)\n",
    "y_pred = clf.predict(X_test)"
   ]
  },
  {
   "cell_type": "code",
   "execution_count": 61,
   "id": "ef37ff2e",
   "metadata": {},
   "outputs": [
    {
     "name": "stdout",
     "output_type": "stream",
     "text": [
      "Training Accuracy : 0.9912415703612503\n",
      "Testing Accuracy : 0.8013971404321996\n"
     ]
    }
   ],
   "source": [
    "print(\"Training Accuracy :\", clf.score(X_train, y_train)) \n",
    "print(\"Testing Accuracy :\", clf.score(X_test, y_test))"
   ]
  },
  {
   "cell_type": "code",
   "execution_count": 75,
   "id": "55807ed2",
   "metadata": {},
   "outputs": [],
   "source": [
    "from sklearn import metrics\n",
    "from sklearn.metrics import accuracy_score\n",
    "from sklearn.metrics import confusion_matrix"
   ]
  },
  {
   "cell_type": "code",
   "execution_count": 76,
   "id": "bbe6d94b",
   "metadata": {},
   "outputs": [
    {
     "name": "stdout",
     "output_type": "stream",
     "text": [
      "              precision    recall  f1-score   support\n",
      "\n",
      "           0       0.84      0.80      0.82      8723\n",
      "           1       0.75      0.80      0.78      6594\n",
      "\n",
      "    accuracy                           0.80     15317\n",
      "   macro avg       0.80      0.80      0.80     15317\n",
      "weighted avg       0.80      0.80      0.80     15317\n",
      "\n"
     ]
    }
   ],
   "source": [
    "print(metrics.classification_report(y_test, y_pred))"
   ]
  },
  {
   "cell_type": "code",
   "execution_count": 77,
   "id": "c53fbefd",
   "metadata": {},
   "outputs": [
    {
     "name": "stdout",
     "output_type": "stream",
     "text": [
      "[[6978 1745]\n",
      " [1297 5297]]\n"
     ]
    }
   ],
   "source": [
    "matrix = confusion_matrix(y_test, y_pred)\n",
    "print(matrix)"
   ]
  },
  {
   "cell_type": "code",
   "execution_count": 78,
   "id": "69ef2f0f",
   "metadata": {},
   "outputs": [],
   "source": [
    "from sklearn.ensemble import GradientBoostingClassifier\n",
    "\n",
    "GB = GradientBoostingClassifier(n_estimators=2) \n",
    "GB.fit(X_train, y_train)\n",
    "y_pred = GB.predict(X_test)"
   ]
  },
  {
   "cell_type": "code",
   "execution_count": 79,
   "id": "32cc499d",
   "metadata": {},
   "outputs": [
    {
     "name": "stdout",
     "output_type": "stream",
     "text": [
      "Training Accuracy : 0.564177183311414\n",
      "Testing Accuracy : 0.5694979434615134\n"
     ]
    }
   ],
   "source": [
    "print(\"Training Accuracy :\", GB.score(X_train, y_train)) \n",
    "print(\"Testing Accuracy :\", GB.score(X_test, y_test))"
   ]
  },
  {
   "cell_type": "code",
   "execution_count": 80,
   "id": "f51b7693",
   "metadata": {},
   "outputs": [
    {
     "name": "stdout",
     "output_type": "stream",
     "text": [
      "              precision    recall  f1-score   support\n",
      "\n",
      "           0       0.57      1.00      0.73      8723\n",
      "           1       0.00      0.00      0.00      6594\n",
      "\n",
      "    accuracy                           0.57     15317\n",
      "   macro avg       0.28      0.50      0.36     15317\n",
      "weighted avg       0.32      0.57      0.41     15317\n",
      "\n"
     ]
    }
   ],
   "source": [
    "print(metrics.classification_report(y_test, y_pred))"
   ]
  },
  {
   "cell_type": "code",
   "execution_count": 81,
   "id": "6cb725b4",
   "metadata": {},
   "outputs": [
    {
     "name": "stdout",
     "output_type": "stream",
     "text": [
      "Confusion matrix : \n",
      " [[8723    0]\n",
      " [6594    0]]\n"
     ]
    }
   ],
   "source": [
    "matrix = confusion_matrix(y_test,y_pred) \n",
    "print('Confusion matrix : \\n',matrix)"
   ]
  },
  {
   "cell_type": "code",
   "execution_count": 83,
   "id": "40e18f82",
   "metadata": {},
   "outputs": [],
   "source": [
    "from sklearn.ensemble import RandomForestClassifier\n",
    "\n",
    "rf_classifier= RandomForestClassifier(\n",
    "    n_estimators= 10, \n",
    "    criterion=\"entropy\"\n",
    ")\n",
    "rf_classifier.fit(X_train, y_train)\n",
    "y_pred = rf_classifier.predict(X_test)"
   ]
  },
  {
   "cell_type": "code",
   "execution_count": 84,
   "id": "5355717f",
   "metadata": {},
   "outputs": [
    {
     "name": "stdout",
     "output_type": "stream",
     "text": [
      "Training Accuracy : 0.9804684220835549\n",
      "Testing Accuracy : 0.8282300711627604\n"
     ]
    }
   ],
   "source": [
    "print(\"Training Accuracy :\", rf_classifier.score(X_train, y_train)) \n",
    "print(\"Testing Accuracy :\", rf_classifier.score(X_test, y_test))"
   ]
  },
  {
   "cell_type": "code",
   "execution_count": 85,
   "id": "09252618",
   "metadata": {},
   "outputs": [
    {
     "name": "stdout",
     "output_type": "stream",
     "text": [
      "              precision    recall  f1-score   support\n",
      "\n",
      "           0       0.83      0.87      0.85      8723\n",
      "           1       0.82      0.77      0.79      6594\n",
      "\n",
      "    accuracy                           0.83     15317\n",
      "   macro avg       0.83      0.82      0.82     15317\n",
      "weighted avg       0.83      0.83      0.83     15317\n",
      "\n"
     ]
    }
   ],
   "source": [
    "print(metrics.classification_report(y_test, y_pred))"
   ]
  },
  {
   "cell_type": "code",
   "execution_count": 86,
   "id": "3e70cb08",
   "metadata": {},
   "outputs": [
    {
     "name": "stdout",
     "output_type": "stream",
     "text": [
      "Confusion matrix : \n",
      " [[7602 1121]\n",
      " [1510 5084]]\n"
     ]
    }
   ],
   "source": [
    "matrix = confusion_matrix(y_test,y_pred) \n",
    "print('Confusion matrix : \\n',matrix)"
   ]
  },
  {
   "cell_type": "code",
   "execution_count": 87,
   "id": "fe8fde25",
   "metadata": {},
   "outputs": [],
   "source": [
    "from sklearn.svm import LinearSVC\n",
    "\n",
    "LSVCClf = LinearSVC(\n",
    "    dual = False, \n",
    "    random_state = 42, \n",
    "    penalty = 'l1',\n",
    "    tol = 1e-5\n",
    ")\n",
    "LSVCClf.fit(X_train, y_train)\n",
    "\n",
    "y_pred = LSVCClf.predict(X_test)"
   ]
  },
  {
   "cell_type": "code",
   "execution_count": 88,
   "id": "aa7ca84b",
   "metadata": {},
   "outputs": [
    {
     "name": "stdout",
     "output_type": "stream",
     "text": [
      "Training Accuracy : 0.8386546156644374\n",
      "Testing Accuracy : 0.7728667493634523\n"
     ]
    }
   ],
   "source": [
    "print(\"Training Accuracy :\", LSVCClf.score(X_train, y_train)) \n",
    "print(\"Testing Accuracy :\", LSVCClf.score(X_test, y_test))"
   ]
  },
  {
   "cell_type": "code",
   "execution_count": 89,
   "id": "1312e7f8",
   "metadata": {},
   "outputs": [
    {
     "name": "stdout",
     "output_type": "stream",
     "text": [
      "              precision    recall  f1-score   support\n",
      "\n",
      "           0       0.82      0.77      0.79      8723\n",
      "           1       0.72      0.78      0.75      6594\n",
      "\n",
      "    accuracy                           0.77     15317\n",
      "   macro avg       0.77      0.77      0.77     15317\n",
      "weighted avg       0.78      0.77      0.77     15317\n",
      "\n"
     ]
    }
   ],
   "source": [
    "print(metrics.classification_report(y_test, y_pred))"
   ]
  },
  {
   "cell_type": "code",
   "execution_count": 90,
   "id": "8dfe882d",
   "metadata": {},
   "outputs": [
    {
     "name": "stdout",
     "output_type": "stream",
     "text": [
      "Confusion matrix : \n",
      " [[6723 2000]\n",
      " [1479 5115]]\n"
     ]
    }
   ],
   "source": [
    "matrix = confusion_matrix(y_test,y_pred) \n",
    "print('Confusion matrix : \\n',matrix)"
   ]
  },
  {
   "cell_type": "code",
   "execution_count": 91,
   "id": "f88f9386",
   "metadata": {},
   "outputs": [],
   "source": [
    "from sklearn.linear_model import LogisticRegression\n",
    "\n",
    "logreg_model = LogisticRegression() \n",
    "logreg_model.fit(X_train, y_train)\n",
    "\n",
    "y_pred = logreg_model.predict(X_test)"
   ]
  },
  {
   "cell_type": "code",
   "execution_count": 92,
   "id": "ac3cc3ff",
   "metadata": {},
   "outputs": [
    {
     "name": "stdout",
     "output_type": "stream",
     "text": [
      "Training Accuracy : 0.804460363208999\n",
      "Testing Accuracy : 0.7695371156231638\n"
     ]
    }
   ],
   "source": [
    "print(\"Training Accuracy :\", logreg_model.score(X_train, y_train)) \n",
    "print(\"Testing Accuracy :\", logreg_model.score(X_test, y_test))"
   ]
  },
  {
   "cell_type": "code",
   "execution_count": 93,
   "id": "9f612c3f",
   "metadata": {},
   "outputs": [
    {
     "name": "stdout",
     "output_type": "stream",
     "text": [
      "              precision    recall  f1-score   support\n",
      "\n",
      "           0       0.79      0.82      0.80      8723\n",
      "           1       0.75      0.70      0.72      6594\n",
      "\n",
      "    accuracy                           0.77     15317\n",
      "   macro avg       0.77      0.76      0.76     15317\n",
      "weighted avg       0.77      0.77      0.77     15317\n",
      "\n"
     ]
    }
   ],
   "source": [
    "print(metrics.classification_report(y_test, y_pred))"
   ]
  },
  {
   "cell_type": "code",
   "execution_count": 94,
   "id": "78fc63b4",
   "metadata": {},
   "outputs": [
    {
     "name": "stdout",
     "output_type": "stream",
     "text": [
      "Confusion matrix : \n",
      " [[7146 1577]\n",
      " [1953 4641]]\n"
     ]
    }
   ],
   "source": [
    "matrix = confusion_matrix(y_test,y_pred) \n",
    "print('Confusion matrix : \\n',matrix)"
   ]
  },
  {
   "cell_type": "code",
   "execution_count": null,
   "id": "9c8af7ef",
   "metadata": {},
   "outputs": [],
   "source": []
  }
 ],
 "metadata": {
  "kernelspec": {
   "display_name": "Python 3 (ipykernel)",
   "language": "python",
   "name": "python3"
  },
  "language_info": {
   "codemirror_mode": {
    "name": "ipython",
    "version": 3
   },
   "file_extension": ".py",
   "mimetype": "text/x-python",
   "name": "python",
   "nbconvert_exporter": "python",
   "pygments_lexer": "ipython3",
   "version": "3.10.4"
  }
 },
 "nbformat": 4,
 "nbformat_minor": 5
}
